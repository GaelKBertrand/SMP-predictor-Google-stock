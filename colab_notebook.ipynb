{
  "nbformat": 4,
  "nbformat_minor": 0,
  "metadata": {
    "colab": {
      "name": "<Bertrand><Kwibuka>.ipynb",
      "provenance": []
    },
    "kernelspec": {
      "name": "python3",
      "display_name": "Python 3"
    },
    "language_info": {
      "name": "python"
    }
  },
  "cells": [
    {
      "cell_type": "markdown",
      "source": [
        "# Installing and running libraries"
      ],
      "metadata": {
        "id": "JOSaRn1xwKxh"
      }
    },
    {
      "cell_type": "code",
      "source": [
        "#installing folium for better visualisations \n",
        "\n",
        "!pip install folium"
      ],
      "metadata": {
        "colab": {
          "base_uri": "https://localhost:8080/"
        },
        "id": "hIYdistI3dHW",
        "outputId": "cad8de3a-fa38-4a43-8da7-5a9601195389"
      },
      "execution_count": 1,
      "outputs": [
        {
          "output_type": "stream",
          "name": "stdout",
          "text": [
            "Requirement already satisfied: folium in /usr/local/lib/python3.7/dist-packages (0.8.3)\n",
            "Requirement already satisfied: six in /usr/local/lib/python3.7/dist-packages (from folium) (1.15.0)\n",
            "Requirement already satisfied: numpy in /usr/local/lib/python3.7/dist-packages (from folium) (1.19.5)\n",
            "Requirement already satisfied: requests in /usr/local/lib/python3.7/dist-packages (from folium) (2.23.0)\n",
            "Requirement already satisfied: branca>=0.3.0 in /usr/local/lib/python3.7/dist-packages (from folium) (0.4.2)\n",
            "Requirement already satisfied: jinja2 in /usr/local/lib/python3.7/dist-packages (from folium) (2.11.3)\n",
            "Requirement already satisfied: MarkupSafe>=0.23 in /usr/local/lib/python3.7/dist-packages (from jinja2->folium) (2.0.1)\n",
            "Requirement already satisfied: idna<3,>=2.5 in /usr/local/lib/python3.7/dist-packages (from requests->folium) (2.10)\n",
            "Requirement already satisfied: urllib3!=1.25.0,!=1.25.1,<1.26,>=1.21.1 in /usr/local/lib/python3.7/dist-packages (from requests->folium) (1.24.3)\n",
            "Requirement already satisfied: chardet<4,>=3.0.2 in /usr/local/lib/python3.7/dist-packages (from requests->folium) (3.0.4)\n",
            "Requirement already satisfied: certifi>=2017.4.17 in /usr/local/lib/python3.7/dist-packages (from requests->folium) (2021.10.8)\n"
          ]
        }
      ]
    },
    {
      "cell_type": "code",
      "execution_count": 3,
      "metadata": {
        "id": "Ez0rkWlWodp_",
        "colab": {
          "base_uri": "https://localhost:8080/"
        },
        "outputId": "3a96d3bf-068d-4130-dcbc-b7d3fcf65a68"
      },
      "outputs": [
        {
          "output_type": "stream",
          "name": "stdout",
          "text": [
            "Requirement already satisfied: neptune-client in /usr/local/lib/python3.7/dist-packages (0.14.2)\n",
            "Requirement already satisfied: future>=0.17.1 in /usr/local/lib/python3.7/dist-packages (from neptune-client) (0.18.2)\n",
            "Requirement already satisfied: websocket-client!=1.0.0,>=0.35.0 in /usr/local/lib/python3.7/dist-packages (from neptune-client) (1.2.3)\n",
            "Requirement already satisfied: boto3>=1.16.0 in /usr/local/lib/python3.7/dist-packages (from neptune-client) (1.20.46)\n",
            "Requirement already satisfied: requests-oauthlib>=1.0.0 in /usr/local/lib/python3.7/dist-packages (from neptune-client) (1.3.0)\n",
            "Requirement already satisfied: pandas in /usr/local/lib/python3.7/dist-packages (from neptune-client) (1.1.5)\n",
            "Requirement already satisfied: psutil in /usr/local/lib/python3.7/dist-packages (from neptune-client) (5.4.8)\n",
            "Requirement already satisfied: Pillow>=1.1.6 in /usr/local/lib/python3.7/dist-packages (from neptune-client) (7.1.2)\n",
            "Requirement already satisfied: six>=1.12.0 in /usr/local/lib/python3.7/dist-packages (from neptune-client) (1.15.0)\n",
            "Requirement already satisfied: bravado in /usr/local/lib/python3.7/dist-packages (from neptune-client) (11.0.3)\n",
            "Requirement already satisfied: requests>=2.20.0 in /usr/local/lib/python3.7/dist-packages (from neptune-client) (2.23.0)\n",
            "Requirement already satisfied: GitPython>=2.0.8 in /usr/local/lib/python3.7/dist-packages (from neptune-client) (3.1.26)\n",
            "Requirement already satisfied: urllib3 in /usr/local/lib/python3.7/dist-packages (from neptune-client) (1.25.11)\n",
            "Requirement already satisfied: click>=7.0 in /usr/local/lib/python3.7/dist-packages (from neptune-client) (7.1.2)\n",
            "Requirement already satisfied: packaging in /usr/local/lib/python3.7/dist-packages (from neptune-client) (21.3)\n",
            "Requirement already satisfied: PyJWT in /usr/local/lib/python3.7/dist-packages (from neptune-client) (2.3.0)\n",
            "Requirement already satisfied: swagger-spec-validator>=2.7.4 in /usr/local/lib/python3.7/dist-packages (from neptune-client) (2.7.4)\n",
            "Requirement already satisfied: oauthlib>=2.1.0 in /usr/local/lib/python3.7/dist-packages (from neptune-client) (3.1.1)\n",
            "Requirement already satisfied: jmespath<1.0.0,>=0.7.1 in /usr/local/lib/python3.7/dist-packages (from boto3>=1.16.0->neptune-client) (0.10.0)\n",
            "Requirement already satisfied: s3transfer<0.6.0,>=0.5.0 in /usr/local/lib/python3.7/dist-packages (from boto3>=1.16.0->neptune-client) (0.5.0)\n",
            "Requirement already satisfied: botocore<1.24.0,>=1.23.46 in /usr/local/lib/python3.7/dist-packages (from boto3>=1.16.0->neptune-client) (1.23.46)\n",
            "Requirement already satisfied: python-dateutil<3.0.0,>=2.1 in /usr/local/lib/python3.7/dist-packages (from botocore<1.24.0,>=1.23.46->boto3>=1.16.0->neptune-client) (2.8.2)\n",
            "Requirement already satisfied: typing-extensions>=3.7.4.3 in /usr/local/lib/python3.7/dist-packages (from GitPython>=2.0.8->neptune-client) (3.10.0.2)\n",
            "Requirement already satisfied: gitdb<5,>=4.0.1 in /usr/local/lib/python3.7/dist-packages (from GitPython>=2.0.8->neptune-client) (4.0.9)\n",
            "Requirement already satisfied: smmap<6,>=3.0.1 in /usr/local/lib/python3.7/dist-packages (from gitdb<5,>=4.0.1->GitPython>=2.0.8->neptune-client) (5.0.0)\n",
            "Requirement already satisfied: chardet<4,>=3.0.2 in /usr/local/lib/python3.7/dist-packages (from requests>=2.20.0->neptune-client) (3.0.4)\n",
            "Requirement already satisfied: certifi>=2017.4.17 in /usr/local/lib/python3.7/dist-packages (from requests>=2.20.0->neptune-client) (2021.10.8)\n",
            "Requirement already satisfied: idna<3,>=2.5 in /usr/local/lib/python3.7/dist-packages (from requests>=2.20.0->neptune-client) (2.10)\n",
            "Requirement already satisfied: jsonschema in /usr/local/lib/python3.7/dist-packages (from swagger-spec-validator>=2.7.4->neptune-client) (4.3.3)\n",
            "Requirement already satisfied: pyyaml in /usr/local/lib/python3.7/dist-packages (from swagger-spec-validator>=2.7.4->neptune-client) (3.13)\n",
            "Requirement already satisfied: msgpack in /usr/local/lib/python3.7/dist-packages (from bravado->neptune-client) (1.0.3)\n",
            "Requirement already satisfied: bravado-core>=5.16.1 in /usr/local/lib/python3.7/dist-packages (from bravado->neptune-client) (5.17.0)\n",
            "Requirement already satisfied: simplejson in /usr/local/lib/python3.7/dist-packages (from bravado->neptune-client) (3.17.6)\n",
            "Requirement already satisfied: monotonic in /usr/local/lib/python3.7/dist-packages (from bravado->neptune-client) (1.6)\n",
            "Requirement already satisfied: jsonref in /usr/local/lib/python3.7/dist-packages (from bravado-core>=5.16.1->bravado->neptune-client) (0.2)\n",
            "Requirement already satisfied: pytz in /usr/local/lib/python3.7/dist-packages (from bravado-core>=5.16.1->bravado->neptune-client) (2018.9)\n",
            "Requirement already satisfied: attrs>=17.4.0 in /usr/local/lib/python3.7/dist-packages (from jsonschema->swagger-spec-validator>=2.7.4->neptune-client) (21.4.0)\n",
            "Requirement already satisfied: importlib-metadata in /usr/local/lib/python3.7/dist-packages (from jsonschema->swagger-spec-validator>=2.7.4->neptune-client) (4.10.1)\n",
            "Requirement already satisfied: pyrsistent!=0.17.0,!=0.17.1,!=0.17.2,>=0.14.0 in /usr/local/lib/python3.7/dist-packages (from jsonschema->swagger-spec-validator>=2.7.4->neptune-client) (0.18.1)\n",
            "Requirement already satisfied: importlib-resources>=1.4.0 in /usr/local/lib/python3.7/dist-packages (from jsonschema->swagger-spec-validator>=2.7.4->neptune-client) (5.4.0)\n",
            "Requirement already satisfied: rfc3339-validator in /usr/local/lib/python3.7/dist-packages (from jsonschema->swagger-spec-validator>=2.7.4->neptune-client) (0.1.4)\n",
            "Requirement already satisfied: webcolors>=1.11 in /usr/local/lib/python3.7/dist-packages (from jsonschema->swagger-spec-validator>=2.7.4->neptune-client) (1.11.1)\n",
            "Requirement already satisfied: rfc3987 in /usr/local/lib/python3.7/dist-packages (from jsonschema->swagger-spec-validator>=2.7.4->neptune-client) (1.3.8)\n",
            "Requirement already satisfied: jsonpointer>1.13 in /usr/local/lib/python3.7/dist-packages (from jsonschema->swagger-spec-validator>=2.7.4->neptune-client) (2.2)\n",
            "Requirement already satisfied: fqdn in /usr/local/lib/python3.7/dist-packages (from jsonschema->swagger-spec-validator>=2.7.4->neptune-client) (1.5.1)\n",
            "Requirement already satisfied: isoduration in /usr/local/lib/python3.7/dist-packages (from jsonschema->swagger-spec-validator>=2.7.4->neptune-client) (20.11.0)\n",
            "Requirement already satisfied: uri-template in /usr/local/lib/python3.7/dist-packages (from jsonschema->swagger-spec-validator>=2.7.4->neptune-client) (1.1.0)\n",
            "Requirement already satisfied: zipp>=3.1.0 in /usr/local/lib/python3.7/dist-packages (from importlib-resources>=1.4.0->jsonschema->swagger-spec-validator>=2.7.4->neptune-client) (3.7.0)\n",
            "Requirement already satisfied: cached-property>=1.3.0 in /usr/local/lib/python3.7/dist-packages (from fqdn->jsonschema->swagger-spec-validator>=2.7.4->neptune-client) (1.5.2)\n",
            "Requirement already satisfied: arrow>=0.15.0 in /usr/local/lib/python3.7/dist-packages (from isoduration->jsonschema->swagger-spec-validator>=2.7.4->neptune-client) (1.2.2)\n",
            "Requirement already satisfied: pyparsing!=3.0.5,>=2.0.2 in /usr/local/lib/python3.7/dist-packages (from packaging->neptune-client) (3.0.7)\n",
            "Requirement already satisfied: numpy>=1.15.4 in /usr/local/lib/python3.7/dist-packages (from pandas->neptune-client) (1.19.5)\n"
          ]
        }
      ],
      "source": [
        "#installing neptune client\n",
        "\n",
        "!pip install neptune-client\n"
      ]
    },
    {
      "cell_type": "code",
      "source": [
        "#import neptune \n",
        "\n",
        "import neptune.new as neptune "
      ],
      "metadata": {
        "id": "3jL1owdmqIji"
      },
      "execution_count": 4,
      "outputs": []
    },
    {
      "cell_type": "code",
      "source": [
        "# Connect your code to Neptune new version \n",
        "import os\n",
        "myProject = 'gaelkbertrand/google-stock-prediction'\n",
        "\n",
        "neptune.init(project=myProject, \n",
        "             api_token='eyJhcGlfYWRkcmVzcyI6Imh0dHBzOi8vYXBwLm5lcHR1bmUuYWkiLCJhcGlfdXJsIjoiaHR0cHM6Ly9hcHAubmVwdHVuZS5haSIsImFwaV9rZXkiOiI4YTc4ZTU1My01NGY3LTQ2YmMtODMxMi1iZWYxMzY4ZjQ2YzMifQ==')\n",
        "\n"
      ],
      "metadata": {
        "colab": {
          "base_uri": "https://localhost:8080/"
        },
        "id": "SmLVOqHcmVMX",
        "outputId": "8248cc18-6128-498f-c1f5-470aa87b4325"
      },
      "execution_count": 5,
      "outputs": [
        {
          "output_type": "stream",
          "name": "stdout",
          "text": [
            "https://app.neptune.ai/gaelkbertrand/google-stock-prediction/e/GOOG-2\n"
          ]
        },
        {
          "output_type": "stream",
          "name": "stderr",
          "text": [
            "Info (NVML): Driver Not Loaded. GPU usage metrics may not be reported. For more information, see https://docs.neptune.ai/you-should-know/what-can-you-log-and-display#hardware-consumption\n"
          ]
        },
        {
          "output_type": "stream",
          "name": "stdout",
          "text": [
            "Remember to stop your run once you’ve finished logging your metadata (https://docs.neptune.ai/api-reference/run#.stop). It will be stopped automatically only when the notebook kernel/interactive console is terminated.\n"
          ]
        },
        {
          "output_type": "execute_result",
          "data": {
            "text/plain": [
              "<neptune.new.run.Run at 0x7fb1fa115c90>"
            ]
          },
          "metadata": {},
          "execution_count": 5
        }
      ]
    },
    {
      "cell_type": "code",
      "source": [
        "#running neptune to log runs: not necessary if the above line run perfectly \n",
        "\n",
        "#run = neptune.init(project=project_name, api_token=api_token)"
      ],
      "metadata": {
        "colab": {
          "base_uri": "https://localhost:8080/"
        },
        "id": "bbAwx4PPs76d",
        "outputId": "1801778a-c88e-4935-d3cc-0073f4ecb50a"
      },
      "execution_count": null,
      "outputs": [
        {
          "output_type": "stream",
          "name": "stdout",
          "text": [
            "https://app.neptune.ai/gaelkbertrand/google-stock-prediction/e/GOOG-1\n"
          ]
        },
        {
          "output_type": "stream",
          "name": "stderr",
          "text": [
            "Info (NVML): Driver Not Loaded. GPU usage metrics may not be reported. For more information, see https://docs.neptune.ai/you-should-know/what-can-you-log-and-display#hardware-consumption\n"
          ]
        },
        {
          "output_type": "stream",
          "name": "stdout",
          "text": [
            "Remember to stop your run once you’ve finished logging your metadata (https://docs.neptune.ai/api-reference/run#.stop). It will be stopped automatically only when the notebook kernel/interactive console is terminated.\n"
          ]
        }
      ]
    },
    {
      "cell_type": "markdown",
      "source": [
        "Setting up a Google Drive working directory"
      ],
      "metadata": {
        "id": "lZkI6zM68oE0"
      }
    },
    {
      "cell_type": "code",
      "source": [
        "#setting up a working_directory \n",
        "from google.colab import drive\n",
        "drive.mount('/content/drive', force_remount=True)\n",
        "\n",
        "! ls /content/drive/My\\ Drive/1.ASP2022\n",
        "\n",
        "import os\n",
        "# This helps you setup your working directory to a folder in your Google Drive.\n",
        "# Your files should be saved in your Google Drive!\n",
        "\n",
        "# the base Google Drive directory\n",
        "root_dir = \"/content/drive/My Drive/\"\n",
        "\n",
        "# choose where you want your project files to be saved\n",
        "ML_final_project = \"1.ASP2022/iml_final_project\"\n",
        "\n",
        "def create_and_set_working_directory(ML_final_project):\n",
        "  # check if your project folder exists. if not, it will be created.\n",
        "  if os.path.isdir(root_dir + ML_final_project) == False:\n",
        "    os.mkdir(root_dir + ML_final_project)\n",
        "    print(root_dir + ML_final_project + ' did not exist but was created.')\n",
        "\n",
        "  # change the OS to use your project folder as the working directory\n",
        "  os.chdir(root_dir + ML_final_project)\n",
        "\n",
        "  # create a test file to make sure it shows up in the right place\n",
        "  !touch 'new_file_in_working_directory.txt'\n",
        "  print('\\nYour working directory was changed to ' + root_dir + ML_final_project + \\\n",
        "        \"\\n\\nAn empty text file was created there. You can also run !pwd to confirm the current working directory.\" )\n",
        "\n",
        "create_and_set_working_directory(ML_final_project)"
      ],
      "metadata": {
        "colab": {
          "base_uri": "https://localhost:8080/"
        },
        "id": "uKV2WKqq9Mkx",
        "outputId": "91b9ae3d-6bc6-4059-b0cf-802a8bd3de6a"
      },
      "execution_count": 6,
      "outputs": [
        {
          "output_type": "stream",
          "name": "stdout",
          "text": [
            "Mounted at /content/drive\n",
            " 20220112_201807.mp4  'Calendars '\n",
            "'Academic Documents'  'My account info.zip'\n",
            "'Action plans'\t       new_file_in_working_directory.txt\n",
            " Assignments\t      'Online gaming competition Tech Min.pptx'\n",
            "'Bank complaints'      Research\n",
            " Bullshit\t       Work\n",
            "/content/drive/My Drive/1.ASP2022/iml_final_project did not exist but was created.\n",
            "\n",
            "Your working directory was changed to /content/drive/My Drive/1.ASP2022/iml_final_project\n",
            "\n",
            "An empty text file was created there. You can also run !pwd to confirm the current working directory.\n"
          ]
        }
      ]
    },
    {
      "cell_type": "markdown",
      "source": [
        "Install other libraries for ML"
      ],
      "metadata": {
        "id": "FAlD-8NM8tfP"
      }
    },
    {
      "cell_type": "code",
      "source": [
        "#installing other dependencies \n",
        "\n",
        "import os\n",
        "import pandas as pd\n",
        "import numpy as np\n",
        "\n",
        "# for reproducibility of my prediction results\n",
        "np.random.seed(42)\n",
        "\n",
        "from datetime import date\n",
        "from matplotlib import pyplot as plt\n",
        "\n",
        "from sklearn.preprocessing import MinMaxScaler, StandardScaler\n",
        "from keras.models import Sequential, Model\n",
        "from keras.models import Model\n",
        "from keras.layers import Dense, Dropout, LSTM, Input, Activation, concatenate\n",
        "\n",
        "import tensorflow as tf\n",
        "tf.random.set_seed(42)\n",
        "\n",
        "\n",
        "\n",
        "import matplotlib.pyplot as plt\n",
        "import pandas as pd\n",
        "import datetime as dt\n",
        "import urllib.request, json\n",
        "os.chdir('/content/drive/My Drive/1.ASP2022/iml_final_project')\n"
      ],
      "metadata": {
        "id": "zC_76i362vpV"
      },
      "execution_count": 7,
      "outputs": []
    },
    {
      "cell_type": "markdown",
      "source": [
        "Recheck and verify your working directory"
      ],
      "metadata": {
        "id": "c3JFKUMh8yAP"
      }
    },
    {
      "cell_type": "code",
      "source": [
        "!pwd"
      ],
      "metadata": {
        "colab": {
          "base_uri": "https://localhost:8080/"
        },
        "id": "63jw07Hb6-4c",
        "outputId": "20a40b15-6af9-4326-f43d-2ccee7043056"
      },
      "execution_count": 8,
      "outputs": [
        {
          "output_type": "stream",
          "name": "stdout",
          "text": [
            "/content/drive/My Drive/1.ASP2022/iml_final_project\n"
          ]
        }
      ]
    },
    {
      "cell_type": "markdown",
      "source": [
        "# The ML project"
      ],
      "metadata": {
        "id": "1rwZONVuwSe4"
      }
    },
    {
      "cell_type": "markdown",
      "source": [
        "Importing Google.inc stock data from Alpha Vantage"
      ],
      "metadata": {
        "id": "VZ6rXPtY1LAE"
      }
    },
    {
      "cell_type": "code",
      "source": [
        "#import data from 'Alpha Vantage'\n",
        "\n",
        "data_source= 'alphavantage'\n",
        "\n",
        "if data_source == 'alphavantage':\n",
        "    \n",
        "    api_key = 'eyJhcGlfYWRkcmVzcyI6Imh0dHBzOi8vYXBwLm5lcHR1bmUuYWkiLCJhcGlfdXJsIjoiaHR0cHM6Ly9hcHAubmVwdHVuZS5haSIsImFwaV9rZXkiOiI4YTc4ZTU1My01NGY3LTQ2YmMtODMxMi1iZWYxMzY4ZjQ2YzMifQ=='\n",
        "    # here, write your desired stock ticker symbol\n",
        "    ticker = 'GOOGL' \n",
        "    \n",
        "    # This is the JSON file with all the stock prices data \n",
        "    url_string = \"https://www.alphavantage.co/query?function=TIME_SERIES_DAILY&symbol=%s&outputsize=full&apikey=%s\"%(ticker,api_key)\n",
        "\n",
        "    # Save data to this file\n",
        "    fileName = 'stock_market_data-%s.csv'%ticker\n",
        "\n",
        "    ### get the low, high, close, and open prices \n",
        "    if not os.path.exists(fileName):\n",
        "        with urllib.request.urlopen(url_string) as url:\n",
        "            data = json.loads(url.read().decode())\n",
        "            # pull the desired stock market data\n",
        "            data = data['Time Series (Daily)']\n",
        "            df = pd.DataFrame(columns=['Date','Low','High','Close','Open'])\n",
        "            for key,val in data.items():\n",
        "                date = dt.datetime.strptime(key, '%Y-%m-%d')\n",
        "                data_row = [date.date(),float(val['3. low']),float(val['2. high']),\n",
        "                            float(val['4. close']),float(val['1. open'])]\n",
        "                df.loc[-1,:] = data_row\n",
        "                df.index = df.index + 1\n",
        "        df.to_csv(fileName)\n",
        "\n",
        "    else:\n",
        "        print('Loading data from local')\n",
        "        df = pd.read_csv(fileName)"
      ],
      "metadata": {
        "id": "Jle6CXDEwV7F"
      },
      "execution_count": 9,
      "outputs": []
    },
    {
      "cell_type": "markdown",
      "source": [
        "Data preprocessing "
      ],
      "metadata": {
        "id": "5LcAATRK1OWi"
      }
    },
    {
      "cell_type": "code",
      "source": [
        "# Sort this DataFrame by date\n",
        "stockprices = df.sort_values('Date')"
      ],
      "metadata": {
        "id": "zug3tCyl1SR2"
      },
      "execution_count": 10,
      "outputs": []
    },
    {
      "cell_type": "markdown",
      "source": [
        "Define functions that helps in calculating the performance: RMSE (Root Mean Square Error), MAPE (Mean absolute percentage error)"
      ],
      "metadata": {
        "id": "JwZc3tlwFot_"
      }
    },
    {
      "cell_type": "code",
      "source": [
        "#### Define helper functions to calculate the metrics RMSE and MAPE ####\n",
        "def calculate_rmse(y_true, y_pred):\n",
        "    \"\"\"\n",
        "    Here, you can calculate the Root Mean Squared Error (RMSE)  \n",
        "    \"\"\"\n",
        "    rmse = np.sqrt(np.mean((y_true-y_pred)**2))                   \n",
        "    return rmse\n",
        "\n",
        "### The effectiveness of prediction method is measured in terms of the Mean Absolute Percentage Error (MAPE) and RMSE\n",
        "def calculate_mape(y_true, y_pred): \n",
        "    \"\"\"\n",
        "    Here, you can calculate the Mean Absolute Percentage Error (MAPE) %\n",
        "    \"\"\"\n",
        "    y_pred, y_true = np.array(y_pred), np.array(y_true)    \n",
        "    mape = np.mean(np.abs((y_true-y_pred) / y_true))*100    \n",
        "    return mape"
      ],
      "metadata": {
        "id": "SnrPU1IaF-i9"
      },
      "execution_count": 11,
      "outputs": []
    },
    {
      "cell_type": "markdown",
      "source": [
        "Splitting the data into a training and test set"
      ],
      "metadata": {
        "id": "yaVM6HAlGUuP"
      }
    },
    {
      "cell_type": "code",
      "source": [
        "## Split the time-series data into a training sequence X and output value Y\n",
        "def extract_seqX_outcomeY(data, N, offset):\n",
        "    \"\"\"\n",
        "    Arguments explanation:\n",
        "        data - dataset \n",
        "        N - window size, e.g., 60 for 60 days \n",
        "        offset - position to start the split\n",
        "    \"\"\"\n",
        "    X, y = [], []\n",
        "    \n",
        "    for i in range(offset, len(data)):\n",
        "        X.append(data[i-N:i])\n",
        "        y.append(data[i])\n",
        "    \n",
        "    return np.array(X), np.array(y)\n",
        "\n",
        "\n",
        "#### Train-Test split for time-series ####\n",
        "test_ratio = 0.2\n",
        "training_ratio = 1 - test_ratio\n",
        "\n",
        "train_size = int(training_ratio * len(stockprices))\n",
        "test_size = int(test_ratio * len(stockprices))\n",
        "\n",
        "print(\"train_size: \" + str(train_size))\n",
        "print(\"test_size: \" + str(test_size))\n",
        "\n",
        "train = stockprices[:train_size][['Date', 'Close']]\n",
        "test = stockprices[train_size:][['Date', 'Close']]\n"
      ],
      "metadata": {
        "colab": {
          "base_uri": "https://localhost:8080/"
        },
        "id": "uBOM565CGYxq",
        "outputId": "71360029-d37d-4b47-fb61-9fa39a34b735"
      },
      "execution_count": 12,
      "outputs": [
        {
          "output_type": "stream",
          "name": "stdout",
          "text": [
            "train_size: 3514\n",
            "test_size: 878\n"
          ]
        }
      ]
    },
    {
      "cell_type": "markdown",
      "source": [
        "# The LSTM (Long Short Term Memory) Model"
      ],
      "metadata": {
        "id": "wVC-QPWmHjKb"
      }
    },
    {
      "cell_type": "markdown",
      "source": [
        "Simple Moving Average calculation"
      ],
      "metadata": {
        "id": "yr3BT3IT_ery"
      }
    },
    {
      "cell_type": "code",
      "source": [
        "stockprices = stockprices.set_index('Date')\n",
        "\n",
        "### For meduim-term trading \n",
        "def plot_stock_trend(var, cur_title, stockprices=stockprices, logNeptune=True, logmodelName='Simple MA'):\n",
        "    ax = stockprices[['Close', var,'200day']].plot(figsize=(20, 10))\n",
        "    plt.grid(False)\n",
        "    plt.title(cur_title)\n",
        "    plt.axis('tight')\n",
        "    plt.ylabel('Stock Price ($)')\n",
        "    \n",
        "    if logNeptune:\n",
        "        npt_exp.log_image(f'Plot of Stock Predictions with {logmodelName}', ax.get_figure())\n",
        "        \n",
        "def calculate_perf_metrics(var, logNeptune=True, logmodelName='Simple MA'):\n",
        "    ### RMSE \n",
        "    rmse = calculate_rmse(np.array(stockprices[train_size:]['Close']), np.array(stockprices[train_size:][var]))\n",
        "    ### MAPE \n",
        "    mape = calculate_mape(np.array(stockprices[train_size:]['Close']), np.array(stockprices[train_size:][var]))\n",
        "    \n",
        "    if logNeptune:        \n",
        "        npt_exp.send_metric('RMSE', rmse)\n",
        "        npt_exp.log_metric('RMSE', rmse)\n",
        "        \n",
        "        npt_exp.send_metric('MAPE (%)', mape)\n",
        "        npt_exp.log_metric('MAPE (%)', mape)\n",
        "    \n",
        "    return rmse, mape\n",
        "\n",
        "# Here, 20 days represent the 22 trading days in a month\n",
        "window_size = 50\n",
        "CURRENT_MODEL = 'LSTM'"
      ],
      "metadata": {
        "id": "ZfX3GNl1HuPs"
      },
      "execution_count": 13,
      "outputs": []
    },
    {
      "cell_type": "markdown",
      "source": [
        "The model"
      ],
      "metadata": {
        "id": "qmqA0zggJBZz"
      }
    },
    {
      "cell_type": "code",
      "source": [
        "#The model based on the model built by: Neptune.AI (https://neptune.ai/). Treat this as a formal citation of a reference. \n",
        "\n",
        "#neptune.create_experiment()\n",
        "\n",
        "if CURRENT_MODEL == 'LSTM':\n",
        "\n",
        "  layer_units, optimizer = 50, 'adam' \n",
        "  cur_epochs = 15\n",
        "  cur_batch_size = 20\n",
        "\n",
        "  cur_LSTM_pars = {'units': layer_units, \n",
        "                    'optimizer': optimizer, \n",
        "                    'batch_size': cur_batch_size, \n",
        "                    'epochs': cur_epochs\n",
        "                    }\n",
        "\n",
        " # Create an experiment and log the model in Neptune new verison\n",
        "  npt_exp = neptune.init(    \n",
        "      api_token=\"eyJhcGlfYWRkcmVzcyI6Imh0dHBzOi8vYXBwLm5lcHR1bmUuYWkiLCJhcGlfdXJsIjoiaHR0cHM6Ly9hcHAubmVwdHVuZS5haSIsImFwaV9rZXkiOiI4YTc4ZTU1My01NGY3LTQ2YmMtODMxMi1iZWYxMzY4ZjQ2YzMifQ==\",\n",
        "      project=myProject, \n",
        "      name='LSTM',         \n",
        "      description='Google-stock-prediction-machine-learning', \n",
        "      tags=['stockprediction', 'LSTM','neptune'])   \n",
        "  \n",
        "  npt_exp['LSTMPars'] = cur_LSTM_pars\n",
        "\n",
        "\n",
        "## Here, you have to use the past N stock prices for training to predict the N+1th closing price\n",
        "\n",
        " # scale \n",
        "scaler = StandardScaler()\n",
        "scaled_data = scaler.fit_transform(stockprices[['Close']])\n",
        "scaled_data_train = scaled_data[:train.shape[0]]\n",
        "\n",
        "X_train, y_train = extract_seqX_outcomeY(scaled_data_train, window_size, window_size)\n",
        "\n",
        "### Build the LSTM model and log your model summary to Neptune to check on performance ###    \n",
        "def Run_LSTM(X_train, layer_units=50, logNeptune=True, NeptuneProject=None):     \n",
        "    inp = Input(shape=(X_train.shape[1], 1))\n",
        "    \n",
        "    x = LSTM(units=layer_units, return_sequences=True)(inp)\n",
        "    x = LSTM(units=layer_units)(x)\n",
        "    out = Dense(1, activation='linear')(x)\n",
        "    model = Model(inp, out)\n",
        "    \n",
        "    # Compile the LSTM neural network\n",
        "    model.compile(loss = 'mean_squared_error', optimizer = 'adam')\n",
        "    \n",
        "    ## log into Neptune\n",
        "   \n",
        "    if logNeptune:\n",
        "            model.summary(print_fn=lambda x: NeptuneProject['model_summary'].log(x))\n",
        "    return model \n",
        "\n",
        "#Run the model\n",
        "model = Run_LSTM(X_train, layer_units=layer_units, logNeptune=True, NeptuneProject=npt_exp)\n",
        "    \n",
        "history = model.fit(X_train, y_train, epochs=cur_epochs, batch_size=cur_batch_size, \n",
        "                    verbose=1, validation_split=0.1, shuffle=True)\n",
        "\n",
        "#Now, you can predict stock prices using the past window_size stock prices\n",
        "def preprocess_testdat(data=stockprices, scaler=scaler, window_size=window_size, test=test):    \n",
        "    raw = data['Close'][len(data) - len(test) - window_size:].values\n",
        "    raw = raw.reshape(-1,1)\n",
        "    raw = scaler.transform(raw)\n",
        "    \n",
        "    X_test = []\n",
        "    for i in range(window_size, raw.shape[0]):\n",
        "        X_test.append(raw[i-window_size:i, 0])\n",
        "        \n",
        "    X_test = np.array(X_test)\n",
        "    \n",
        "    X_test = np.reshape(X_test, (X_test.shape[0], X_test.shape[1], 1))\n",
        "    return X_test\n",
        "\n",
        "#Run it\n",
        "X_test = preprocess_testdat()\n",
        "  \n",
        "predicted_price_ = model.predict(X_test)\n",
        "predicted_price = scaler.inverse_transform(predicted_price_)\n",
        "\n",
        "# Plot the predicted price versus the actual closing price \n",
        "test['Predictions_lstm'] = predicted_price   \n",
        "\n",
        "\n",
        "\n",
        "\n"
      ],
      "metadata": {
        "colab": {
          "base_uri": "https://localhost:8080/"
        },
        "id": "d_CMzXE5I7T1",
        "outputId": "59d93ff4-b0f5-4f42-f31e-3ceaf4d5a87e"
      },
      "execution_count": 34,
      "outputs": [
        {
          "output_type": "stream",
          "name": "stdout",
          "text": [
            "https://app.neptune.ai/gaelkbertrand/google-stock-prediction/e/GOOG-8\n",
            "Remember to stop your run once you’ve finished logging your metadata (https://docs.neptune.ai/api-reference/run#.stop). It will be stopped automatically only when the notebook kernel/interactive console is terminated.\n",
            "Epoch 1/15\n",
            "156/156 [==============================] - 21s 112ms/step - loss: 0.0114 - val_loss: 0.0041\n",
            "Epoch 2/15\n",
            "156/156 [==============================] - 17s 106ms/step - loss: 0.0030 - val_loss: 0.0038\n",
            "Epoch 3/15\n",
            "156/156 [==============================] - 18s 113ms/step - loss: 0.0025 - val_loss: 0.0028\n",
            "Epoch 4/15\n",
            "156/156 [==============================] - 20s 131ms/step - loss: 0.0022 - val_loss: 0.0031\n",
            "Epoch 5/15\n",
            "156/156 [==============================] - 18s 115ms/step - loss: 0.0020 - val_loss: 0.0027\n",
            "Epoch 6/15\n",
            "156/156 [==============================] - 19s 125ms/step - loss: 0.0018 - val_loss: 0.0024\n",
            "Epoch 7/15\n",
            "156/156 [==============================] - 17s 111ms/step - loss: 0.0016 - val_loss: 0.0035\n",
            "Epoch 8/15\n",
            "156/156 [==============================] - 17s 106ms/step - loss: 0.0015 - val_loss: 0.0027\n",
            "Epoch 9/15\n",
            "156/156 [==============================] - 17s 110ms/step - loss: 0.0014 - val_loss: 0.0039\n",
            "Epoch 10/15\n",
            "156/156 [==============================] - 18s 115ms/step - loss: 0.0013 - val_loss: 0.0019\n",
            "Epoch 11/15\n",
            "156/156 [==============================] - 20s 130ms/step - loss: 0.0013 - val_loss: 0.0019\n",
            "Epoch 12/15\n",
            "156/156 [==============================] - 17s 112ms/step - loss: 0.0012 - val_loss: 0.0019\n",
            "Epoch 13/15\n",
            "156/156 [==============================] - 18s 117ms/step - loss: 0.0012 - val_loss: 0.0017\n",
            "Epoch 14/15\n",
            "156/156 [==============================] - 17s 108ms/step - loss: 0.0011 - val_loss: 0.0018\n",
            "Epoch 15/15\n",
            "156/156 [==============================] - 17s 108ms/step - loss: 0.0011 - val_loss: 0.0016\n"
          ]
        },
        {
          "output_type": "stream",
          "name": "stderr",
          "text": [
            "/usr/local/lib/python3.7/dist-packages/sklearn/base.py:451: UserWarning: X does not have valid feature names, but StandardScaler was fitted with feature names\n",
            "  \"X does not have valid feature names, but\"\n"
          ]
        }
      ]
    },
    {
      "cell_type": "markdown",
      "source": [
        "# Performance Evaluation"
      ],
      "metadata": {
        "id": "f-jMLpvxtS7e"
      }
    },
    {
      "cell_type": "markdown",
      "source": [
        "Evaluating the performance via RMSE and MAPE"
      ],
      "metadata": {
        "id": "x0mV0LvvtePV"
      }
    },
    {
      "cell_type": "code",
      "source": [
        "rmse_lstm = calculate_rmse(np.array(test['Close']), np.array(test['Predictions_lstm']))\n",
        "mape_lstm = calculate_mape(np.array(test['Close']), np.array(test['Predictions_lstm']))\n",
        "# npt_exp.send_metric('RMSE', rmse_lstm)\n",
        "# npt_exp.log_metric('RMSE', rmse_lstm)\n",
        "npt_exp['RMSE'].log(rmse_lstm)  ## 12-18\n",
        "\n",
        "# npt_exp.send_metric('MAPE (%)', mape_lstm)\n",
        "# npt_exp.log_metric('MAPE (%)', mape_lstm)\n",
        "npt_exp['MAPE (%)'].log(mape_lstm)\n",
        "\n",
        "print('RMSE=', rmse_lstm, ':An error difference of 114. Pretty low compared to how Google stock changed in the last 18 years')\n",
        "print('MAPE % =', mape_lstm, ':Good performance. An error of 3% difference between the actual price vs the predicted price.')"
      ],
      "metadata": {
        "id": "0J6KNLhetc9d",
        "colab": {
          "base_uri": "https://localhost:8080/"
        },
        "outputId": "32e73fc5-57e2-47c0-dba2-9d478b846713"
      },
      "execution_count": 40,
      "outputs": [
        {
          "output_type": "stream",
          "name": "stdout",
          "text": [
            "RMSE= 114.38063218855103 :An error difference of 114. Pretty low compared to how Google stock changed in the last 18 years\n",
            "MAPE % = 3.354019131687904 :Good performance. An error of 3% difference between the actual price vs the predicted price.\n"
          ]
        }
      ]
    },
    {
      "cell_type": "markdown",
      "source": [
        "Plotting Function Definition\n",
        "\n",
        "Note: if you have color blindness, specify your preferred colors in the code below. "
      ],
      "metadata": {
        "id": "GL9lt-a0t7fn"
      }
    },
    {
      "cell_type": "code",
      "source": [
        "### Plot prediction and true trends and log to Neptune         \n",
        "def plot_stock_trend_lstm(train, test, logNeptune=True):        \n",
        "    fig = plt.figure(figsize = (20,10))\n",
        "    plt.plot(train['Date'], train['Close'], label = 'TRAIN Closing Price')\n",
        "    plt.plot(test['Date'], test['Close'], label = 'TEST Closing Price')\n",
        "    plt.plot(test['Date'], test['Predictions_lstm'], label = 'Predicted Closing Price')\n",
        "    plt.title('Google inc stock price prediction using the LSTM Model: 2004-2022')\n",
        "    plt.xlabel('Date')\n",
        "    plt.ylabel('Stock Price ($)')\n",
        "    plt.legend(loc=\"upper left\")\n",
        "    \n",
        "    ## Log image to Neptune new version\n",
        "    if logNeptune:\n",
        "        ## npt_exp.log_image('Plot of Stock Predictions with LSTM', fig)\n",
        "        npt_exp['Plot of Stock Predictions with LSTM'].upload(neptune.types.File.as_image(fig))        "
      ],
      "metadata": {
        "id": "Frb51UwXt68-"
      },
      "execution_count": 42,
      "outputs": []
    },
    {
      "cell_type": "markdown",
      "source": [
        "Plotting "
      ],
      "metadata": {
        "id": "4RHII8geuLVW"
      }
    },
    {
      "cell_type": "code",
      "source": [
        "plot_stock_trend_lstm(train, test)\n",
        "print('RMSE=', rmse_lstm, ':An error difference of 114. Pretty low compared to how Google stock changed in the last 18 years')\n",
        "print('MAPE % =', mape_lstm, ':Good performance. An error of 3% difference between the actual price vs the predicted price.')"
      ],
      "metadata": {
        "id": "5D63hbhXuKH5",
        "colab": {
          "base_uri": "https://localhost:8080/",
          "height": 656
        },
        "outputId": "a1717632-b024-441b-b2f8-3c4b593715f7"
      },
      "execution_count": 44,
      "outputs": [
        {
          "output_type": "stream",
          "name": "stdout",
          "text": [
            "RMSE= 114.38063218855103 :An error difference of 114. Pretty low compared to how Google stock changed in the last 18 years\n",
            "MAPE % = 3.354019131687904 :Good performance. An error of 3% difference between the actual price vs the predicted price.\n"
          ]
        },
        {
          "output_type": "display_data",
          "data": {
            "image/png": "[encoded data removed]",
            "text/plain": [
              "<Figure size 1440x720 with 1 Axes>"
            ]
          },
          "metadata": {
            "needs_background": "light"
          }
        }
      ]
    },
    {
      "cell_type": "markdown",
      "source": [
        "Stop the experiment "
      ],
      "metadata": {
        "id": "E6r6QjgmuQMZ"
      }
    },
    {
      "cell_type": "code",
      "source": [
        "npt_exp.stop()"
      ],
      "metadata": {
        "id": "5Yu6QUfbuTf_",
        "colab": {
          "base_uri": "https://localhost:8080/"
        },
        "outputId": "f973a434-8a89-4ed2-fa2b-f98c08078905"
      },
      "execution_count": 45,
      "outputs": [
        {
          "output_type": "stream",
          "name": "stdout",
          "text": [
            "Shutting down background jobs, please wait a moment...\n",
            "Done!\n"
          ]
        },
        {
          "output_type": "stream",
          "name": "stderr",
          "text": [
            "Waiting for the remaining 1 operations to synchronize with Neptune. Do not kill this process.\n"
          ]
        },
        {
          "output_type": "stream",
          "name": "stdout",
          "text": [
            "All 1 operations synced, thanks for waiting!\n"
          ]
        }
      ]
    }
  ]
}